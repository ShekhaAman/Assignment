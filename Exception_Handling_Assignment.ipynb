{
 "cells": [
  {
   "cell_type": "code",
   "execution_count": 10,
   "metadata": {},
   "outputs": [],
   "source": [
    "#1\n",
    "def exception():\n",
    "    while True:\n",
    "        try:\n",
    "            a=5\n",
    "            b=int(input(\"Enter an integer\"))\n",
    "            c=a/b\n",
    "        except ZeroDivisionError as e:\n",
    "            print(\"Not Divisible by zero! Try again:\",e)\n",
    "        except ValueError as e:\n",
    "            print(\"Enter a Valid input\",e)\n",
    "        except Exception as e:\n",
    "            print(\"Wrong input\",e)\n",
    "            continue\n",
    "        else:\n",
    "            print(\"Successfull\",c)\n",
    "            break\n",
    "        "
   ]
  },
  {
   "cell_type": "code",
   "execution_count": 11,
   "metadata": {},
   "outputs": [
    {
     "name": "stdout",
     "output_type": "stream",
     "text": [
      "Enter an integerffg\n",
      "Enter a Valid input invalid literal for int() with base 10: 'ffg'\n",
      "Enter an integer!\n",
      "Enter a Valid input invalid literal for int() with base 10: '!'\n",
      "Enter an integer0\n",
      "Not Divisible by zero! Try again: division by zero\n",
      "Enter an integer87\n",
      "Successfull 0.05747126436781609\n"
     ]
    }
   ],
   "source": [
    "exception()"
   ]
  },
  {
   "cell_type": "code",
   "execution_count": 3,
   "metadata": {},
   "outputs": [
    {
     "data": {
      "text/plain": [
       "['Americans  play Baseball',\n",
       " 'Americans  play Cricket',\n",
       " 'Americans  watch Baseball',\n",
       " 'Americans  watch Cricket',\n",
       " 'Indians play Baseball',\n",
       " 'Indians play Cricket',\n",
       " 'Indians watch Baseball',\n",
       " 'Indians watch Cricket']"
      ]
     },
     "execution_count": 3,
     "metadata": {},
     "output_type": "execute_result"
    }
   ],
   "source": [
    "new=[]\n",
    "subjects=[\"Americans \",\"Indians\"]\n",
    "verbs=[\"play\",\"watch\"]\n",
    "objects=[\"Baseball\",\"Cricket\"]\n",
    "for i in range (len(subjects)):\n",
    "    for j in range (len(verbs)):\n",
    "        for k in range (len(objects)):\n",
    "            new.append(subjects[i]+\" \"+verbs[j]+ \" \"+objects[k])\n",
    "new"
   ]
  },
  {
   "cell_type": "code",
   "execution_count": null,
   "metadata": {},
   "outputs": [],
   "source": []
  }
 ],
 "metadata": {
  "kernelspec": {
   "display_name": "Python 3",
   "language": "python",
   "name": "python3"
  },
  "language_info": {
   "codemirror_mode": {
    "name": "ipython",
    "version": 3
   },
   "file_extension": ".py",
   "mimetype": "text/x-python",
   "name": "python",
   "nbconvert_exporter": "python",
   "pygments_lexer": "ipython3",
   "version": "3.8.5"
  }
 },
 "nbformat": 4,
 "nbformat_minor": 4
}
