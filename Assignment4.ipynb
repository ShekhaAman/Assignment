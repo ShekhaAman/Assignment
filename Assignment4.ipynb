{
 "cells": [
  {
   "cell_type": "markdown",
   "id": "8d1f21af",
   "metadata": {},
   "source": [
    "# Q1.1 Write a Python Program(with class concepts) to find the area of the triangle using the below formula.area = (s(s-a)(s-b)*(s-c)) ** 0.5 Function to take the length of the sides of triangle from user should be defined in the parentclass and function to calculate the area should be defined in subclass."
   ]
  },
  {
   "cell_type": "code",
   "execution_count": 6,
   "id": "25edec00",
   "metadata": {},
   "outputs": [],
   "source": [
    "class Triangle_area:\n",
    "    def __init__(self,i,j,k):\n",
    "        self.i = i\n",
    "        self.j = j\n",
    "        self.k = k\n",
    "    def area(self):\n",
    "        s = (self.i+self.j+self.k)/2\n",
    "        area = (s*(s-self.i)*(s-self.j)*(s-self.k))**0.5\n",
    "        return area"
   ]
  },
  {
   "cell_type": "code",
   "execution_count": 8,
   "id": "539a8f29",
   "metadata": {},
   "outputs": [
    {
     "name": "stdout",
     "output_type": "stream",
     "text": [
      "Enter the length of side i: 3\n",
      "Enter the length of side j: 6\n",
      "Enter the length of side k: 7\n",
      "area of the triangle is- 8.94427190999916\n"
     ]
    }
   ],
   "source": [
    "i = float(input(\"Enter the length of side i: \"))\n",
    "j = float(input(\"Enter the length of side j: \"))\n",
    "k = float(input(\"Enter the length of side k: \"))\n",
    "tri_area  = Triangle_area(i,j,k)\n",
    "print(\"area of the triangle is-\", tri_area.area())"
   ]
  },
  {
   "cell_type": "markdown",
   "id": "cd453f62",
   "metadata": {},
   "source": [
    "# Write a function filter_long_words() that takes a list of words and an integer n and returns the list of words that are longer than n."
   ]
  },
  {
   "cell_type": "code",
   "execution_count": 10,
   "id": "6f4a64f9",
   "metadata": {},
   "outputs": [
    {
     "name": "stdout",
     "output_type": "stream",
     "text": [
      "passe\n"
     ]
    }
   ],
   "source": [
    "k = [\"ass\",\"bsss\",\"passe\"]\n",
    "n = 4\n",
    "for i in k:\n",
    "    if len(i)>n:\n",
    "        print(i)"
   ]
  },
  {
   "cell_type": "code",
   "execution_count": 26,
   "id": "88d015f4",
   "metadata": {},
   "outputs": [],
   "source": [
    "def filter_long_words(list_words,length):\n",
    "    new_list = []\n",
    "    for i in list_words:\n",
    "        if len(i)>length:\n",
    "            new_list.append(i)\n",
    "    print(\"The words with more than length {}\".format(length))\n",
    "    return new_list\n",
    "    "
   ]
  },
  {
   "cell_type": "code",
   "execution_count": 34,
   "id": "e5329ddf",
   "metadata": {},
   "outputs": [
    {
     "name": "stdout",
     "output_type": "stream",
     "text": [
      "The words with more than length 4\n"
     ]
    },
    {
     "data": {
      "text/plain": [
       "['orange', 'strawberry']"
      ]
     },
     "execution_count": 34,
     "metadata": {},
     "output_type": "execute_result"
    }
   ],
   "source": [
    "filter_long_words([\"man\",\"orange\",\"car\",\"strawberry\"],4)"
   ]
  },
  {
   "cell_type": "markdown",
   "id": "c5ad3d4d",
   "metadata": {},
   "source": [
    "# Q2.1 Write a Python program using function concept that maps list of words into a list of integers representing the lengths of the corresponding words.Hint: If a list [ ab,cde,erty] is passed on to the python function output should come as [2,3,4] Here 2,3 and 4 are the lengths of the words in the list."
   ]
  },
  {
   "cell_type": "code",
   "execution_count": 45,
   "id": "0850e873",
   "metadata": {},
   "outputs": [],
   "source": [
    "def word_length(li_word):\n",
    "    l2 = []\n",
    "    for i in li_word:\n",
    "        l2.append(len(i))\n",
    "    print(\"The length of each words\",l2)\n",
    "    return l2"
   ]
  },
  {
   "cell_type": "code",
   "execution_count": 46,
   "id": "a69e94c2",
   "metadata": {},
   "outputs": [
    {
     "name": "stdout",
     "output_type": "stream",
     "text": [
      "The length of each words [2, 3, 4]\n"
     ]
    },
    {
     "data": {
      "text/plain": [
       "[2, 3, 4]"
      ]
     },
     "execution_count": 46,
     "metadata": {},
     "output_type": "execute_result"
    }
   ],
   "source": [
    " word_length(['ab', 'cde', 'erty'])"
   ]
  },
  {
   "cell_type": "markdown",
   "id": "61fd6dd0",
   "metadata": {},
   "source": [
    "# Q2.2 Write a Python function which takes a character (i.e. a string of length 1) and returns True if it is a vowel, False otherwise."
   ]
  },
  {
   "cell_type": "code",
   "execution_count": 73,
   "id": "931b7b0e",
   "metadata": {},
   "outputs": [],
   "source": [
    "def vowel_check(vowel):\n",
    "    list_vowel = (\"a\",\"e\", \"i\", \"o\", \"u\")\n",
    "    if len(vowel)==1:\n",
    "        if vowel in list_vowel:\n",
    "            return True\n",
    "        else:\n",
    "            return False\n",
    "\n",
    "    else:\n",
    "        return(\"Enter a valid vowel\") "
   ]
  },
  {
   "cell_type": "code",
   "execution_count": 75,
   "id": "5280bdbb",
   "metadata": {},
   "outputs": [
    {
     "name": "stdout",
     "output_type": "stream",
     "text": [
      "True\n",
      "False\n",
      "Enter a valid vowel\n"
     ]
    }
   ],
   "source": [
    "print(vowel_check('u'))\n",
    "print(vowel_check('k'))\n",
    "print(vowel_check('fd'))"
   ]
  },
  {
   "cell_type": "code",
   "execution_count": null,
   "id": "4e80687b",
   "metadata": {},
   "outputs": [],
   "source": []
  }
 ],
 "metadata": {
  "kernelspec": {
   "display_name": "Python 3",
   "language": "python",
   "name": "python3"
  },
  "language_info": {
   "codemirror_mode": {
    "name": "ipython",
    "version": 3
   },
   "file_extension": ".py",
   "mimetype": "text/x-python",
   "name": "python",
   "nbconvert_exporter": "python",
   "pygments_lexer": "ipython3",
   "version": "3.8.8"
  }
 },
 "nbformat": 4,
 "nbformat_minor": 5
}
